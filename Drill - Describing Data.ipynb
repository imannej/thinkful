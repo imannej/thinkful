{
 "cells": [
  {
   "cell_type": "code",
   "execution_count": 42,
   "metadata": {},
   "outputs": [],
   "source": [
    "import numpy as np\n",
    "import pandas as pd\n",
    "import statistics as st"
   ]
  },
  {
   "cell_type": "code",
   "execution_count": 43,
   "metadata": {},
   "outputs": [],
   "source": [
    "df=pd.read_csv('Describing Data.csv')"
   ]
  },
  {
   "cell_type": "code",
   "execution_count": 44,
   "metadata": {},
   "outputs": [
    {
     "name": "stdout",
     "output_type": "stream",
     "text": [
      "     name  age\n",
      "0    Greg   14\n",
      "1  Marcia   12\n",
      "2   Peter   11\n",
      "3     Jam   10\n",
      "4   Bobby    8\n",
      "5   Cindy    6\n",
      "6  Oliver    8\n"
     ]
    }
   ],
   "source": [
    "print(df)"
   ]
  },
  {
   "cell_type": "code",
   "execution_count": 45,
   "metadata": {},
   "outputs": [],
   "source": [
    "mean=df.age.mean()\n",
    "standarddev=df.age.std()\n",
    "variance=df.age.var()\n",
    "median=df.age.median()\n",
    "se=np.std(df['age'] ,ddof=1) / np.sqrt(len(df['age']))\n",
    "mode=st.mode(df['age'])"
   ]
  },
  {
   "cell_type": "code",
   "execution_count": 46,
   "metadata": {},
   "outputs": [
    {
     "name": "stdout",
     "output_type": "stream",
     "text": [
      "Mean= 9.857142857142858 Standard Deviation= 2.734262327610589 variance= 7.476190476190475 Median =  10.0 standard error= 1.0334540197243192 Mode= 8\n"
     ]
    }
   ],
   "source": [
    "print('Mean=',mean,'Standard Deviation=',\n",
    "standarddev,'variance=',variance,'Median = ',median,'standard error=',se,\"Mode=\",mode)"
   ]
  },
  {
   "cell_type": "code",
   "execution_count": 47,
   "metadata": {},
   "outputs": [],
   "source": [
    "df.loc[5,'age']=7\n"
   ]
  },
  {
   "cell_type": "code",
   "execution_count": 48,
   "metadata": {},
   "outputs": [],
   "source": [
    "mean=df.age.mean()\n",
    "standarddev=df.age.std()\n",
    "variance=df.age.var()\n",
    "median=df.age.median()\n",
    "se=np.std(df['age'] ,ddof=1) / np.sqrt(len(df['age']))\n",
    "mode=st.mode(df['age'])"
   ]
  },
  {
   "cell_type": "code",
   "execution_count": 49,
   "metadata": {},
   "outputs": [
    {
     "name": "stdout",
     "output_type": "stream",
     "text": [
      "Mean= 10.0 Standard Deviation= 2.516611478423583 variance= 6.333333333333333 Median =  10.0 standard error= 0.9511897312113418 Mode= 8\n"
     ]
    }
   ],
   "source": [
    "print('Mean=',mean,'Standard Deviation=',\n",
    "standarddev,'variance=',variance,'Median = ',median,'standard error=',se,\"Mode=\",mode)"
   ]
  },
  {
   "cell_type": "code",
   "execution_count": 50,
   "metadata": {},
   "outputs": [],
   "source": [
    "#mean and Median are now the same and we have less variance and sd and se .\n",
    "#it means we have more correlated datas."
   ]
  },
  {
   "cell_type": "code",
   "execution_count": 51,
   "metadata": {},
   "outputs": [],
   "source": [
    "df.loc[6,'name']='Jessica'\n",
    "df.loc[6,'age']=1"
   ]
  },
  {
   "cell_type": "code",
   "execution_count": 52,
   "metadata": {},
   "outputs": [],
   "source": [
    "mean=df.age.mean()\n",
    "standarddev=df.age.std()\n",
    "variance=df.age.var()\n",
    "median=df.age.median()\n",
    "se=np.std(df['age'] ,ddof=1) / np.sqrt(len(df['age']))"
   ]
  },
  {
   "cell_type": "code",
   "execution_count": 53,
   "metadata": {},
   "outputs": [],
   "source": [
    "(values, counts) = np.unique(df['age'], return_counts=True)\n",
    "ind = np.argmax(counts)\n",
    "mode=values[ind]"
   ]
  },
  {
   "cell_type": "code",
   "execution_count": 54,
   "metadata": {},
   "outputs": [
    {
     "name": "stdout",
     "output_type": "stream",
     "text": [
      "Mean= 9.0 Standard Deviation= 4.242640687119285 variance= 18.0 Median =  10.0 standard error= 1.6035674514745462 Mode= 1\n"
     ]
    }
   ],
   "source": [
    "print('Mean=',mean,'Standard Deviation=',\n",
    "standarddev,'variance=',variance,'Median = ',median,'standard error=',se,\"Mode=\",mode)"
   ]
  },
  {
   "cell_type": "code",
   "execution_count": 62,
   "metadata": {},
   "outputs": [
    {
     "name": "stdout",
     "output_type": "stream",
     "text": [
      "20.0\n"
     ]
    }
   ],
   "source": [
    "magazins=[20,23,17]\n",
    "result=np.mean(magazins)\n",
    "print(result)"
   ]
  },
  {
   "cell_type": "code",
   "execution_count": null,
   "metadata": {},
   "outputs": [],
   "source": []
  },
  {
   "cell_type": "code",
   "execution_count": null,
   "metadata": {},
   "outputs": [],
   "source": []
  },
  {
   "cell_type": "code",
   "execution_count": null,
   "metadata": {},
   "outputs": [],
   "source": []
  },
  {
   "cell_type": "code",
   "execution_count": null,
   "metadata": {},
   "outputs": [],
   "source": []
  },
  {
   "cell_type": "code",
   "execution_count": null,
   "metadata": {},
   "outputs": [],
   "source": []
  },
  {
   "cell_type": "code",
   "execution_count": null,
   "metadata": {},
   "outputs": [],
   "source": []
  },
  {
   "cell_type": "code",
   "execution_count": null,
   "metadata": {},
   "outputs": [],
   "source": []
  },
  {
   "cell_type": "code",
   "execution_count": null,
   "metadata": {},
   "outputs": [],
   "source": []
  },
  {
   "cell_type": "code",
   "execution_count": null,
   "metadata": {},
   "outputs": [],
   "source": []
  },
  {
   "cell_type": "code",
   "execution_count": null,
   "metadata": {},
   "outputs": [],
   "source": []
  },
  {
   "cell_type": "code",
   "execution_count": null,
   "metadata": {},
   "outputs": [],
   "source": []
  },
  {
   "cell_type": "code",
   "execution_count": null,
   "metadata": {},
   "outputs": [],
   "source": []
  },
  {
   "cell_type": "code",
   "execution_count": null,
   "metadata": {},
   "outputs": [],
   "source": []
  }
 ],
 "metadata": {
  "kernelspec": {
   "display_name": "Python 3",
   "language": "python",
   "name": "python3"
  },
  "language_info": {
   "codemirror_mode": {
    "name": "ipython",
    "version": 3
   },
   "file_extension": ".py",
   "mimetype": "text/x-python",
   "name": "python",
   "nbconvert_exporter": "python",
   "pygments_lexer": "ipython3",
   "version": "3.7.1"
  }
 },
 "nbformat": 4,
 "nbformat_minor": 2
}
