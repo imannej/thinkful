{
 "cells": [
  {
   "cell_type": "code",
   "execution_count": null,
   "metadata": {},
   "outputs": [],
   "source": [
    "##Data Source: Amsterdam availability data scraped from AirBnB on December 24th.\n",
    "#Question: What are the popular neighborhoods in Amsterdam?"
   ]
  },
  {
   "cell_type": "code",
   "execution_count": 1,
   "metadata": {},
   "outputs": [],
   "source": [
    "#answer\n",
    "# issues with this data are:\n",
    "#1 airbnb is mostly for tourist and doesnt show good neighborhoods\n",
    "#2 these taken on dec 24th ,the day before chrismas that people spend their timewith family and we will\n",
    "#not see that much travelers that need hotel or airbnb"
   ]
  },
  {
   "cell_type": "code",
   "execution_count": null,
   "metadata": {},
   "outputs": [],
   "source": [
    "#Data Source: Mental health services use on September 12, 2001 in San Francisco, CA and New York City, NY. \n",
    "#Question: How do patterns of mental health service use vary between cities?"
   ]
  },
  {
   "cell_type": "code",
   "execution_count": 2,
   "metadata": {},
   "outputs": [],
   "source": [
    "#the first issue with the data set is we don't have enough city to compare and get a conclusion for the whole US.\n",
    "#the second and most important issue is these data gathered the day after 9/11/2001 and terrorist attacked that happened in new york."
   ]
  },
  {
   "cell_type": "code",
   "execution_count": 3,
   "metadata": {},
   "outputs": [],
   "source": [
    "#Data Source: Armenian Pub Survey. \n",
    "#Question: What are the most common reasons Armenians visit local pubs?"
   ]
  },
  {
   "cell_type": "code",
   "execution_count": null,
   "metadata": {},
   "outputs": [],
   "source": [
    "#Answer:\n",
    "#the first issue with the dataset is it doesn't have that much data about people older than 23, (diversity)\n",
    "#the second issue is it doesn't include that much people with a high amount of income.\n",
    "#the third issue is it shows mostly student and not working class"
   ]
  }
 ],
 "metadata": {
  "kernelspec": {
   "display_name": "Python 3",
   "language": "python",
   "name": "python3"
  },
  "language_info": {
   "codemirror_mode": {
    "name": "ipython",
    "version": 3
   },
   "file_extension": ".py",
   "mimetype": "text/x-python",
   "name": "python",
   "nbconvert_exporter": "python",
   "pygments_lexer": "ipython3",
   "version": "3.7.1"
  }
 },
 "nbformat": 4,
 "nbformat_minor": 2
}
