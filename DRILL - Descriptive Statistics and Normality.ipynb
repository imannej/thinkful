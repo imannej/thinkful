{
 "cells": [
  {
   "cell_type": "code",
   "execution_count": 1,
   "metadata": {},
   "outputs": [],
   "source": [
    "import numpy as np\n",
    "import pandas as pd\n",
    "import matplotlib.pyplot as plt\n",
    "%matplotlib inline"
   ]
  },
  {
   "cell_type": "code",
   "execution_count": 24,
   "metadata": {},
   "outputs": [
    {
     "name": "stdout",
     "output_type": "stream",
     "text": [
      "[ 6.79216548  7.90151718  3.44769119  2.15302742  5.05778801  4.41938322\n",
      "  5.56722342  7.81697834  8.36127588  1.82089272  6.46874785  5.01515734\n",
      "  6.61749296  4.98435321  5.96356302  8.65583525  3.43805008  8.64116591\n",
      "  4.95686724  8.79401058  2.84570244  6.28717741  5.35424256  3.41311028\n",
      "  4.47309747  4.20265305  2.79342164  2.36668608  5.15536312  2.58666049\n",
      "  6.27361612  3.5997612   4.21184966  3.7954155   5.95698716 10.84259321\n",
      " 10.82820318  5.04414703  7.42472524  2.12451105  3.4718688   2.21958092\n",
      "  2.90469946  2.77032968  4.60500144  2.61396394  5.51332921  3.67153771\n",
      "  5.17184335  6.40011249  4.06482405 11.32460669  2.44756558  8.93936135\n",
      "  8.2490543   2.36306247  7.84918103  7.92508264  5.11625198  5.39959067\n",
      "  4.66053883  4.65874371  4.86185008  4.63816778 10.40727463  5.04776169\n",
      "  4.39102695  8.74814837  7.94136975  3.64367863  3.48105816  1.86865108\n",
      "  7.40252314  1.86106908  6.17538399  6.46547366  3.1083862   5.18989842\n",
      "  2.930603    4.39541009  3.74176     5.27065873  4.21047799  4.80491948\n",
      "  4.33675238  1.52623514  4.23807325  5.03803691  5.76429913  3.3305384\n",
      "  7.77885402  5.32051919  6.08889136  3.04856295  1.41739308  4.50878628\n",
      "  5.56021781  8.78312588  1.06316335  3.1037662 ]\n"
     ]
    },
    {
     "data": {
      "text/plain": [
       "<matplotlib.lines.Line2D at 0x312aa10>"
      ]
     },
     "execution_count": 24,
     "metadata": {},
     "output_type": "execute_result"
    },
    {
     "data": {
      "image/png": "[encoded data removed]",
      "text/plain": [
       "<Figure size 432x288 with 1 Axes>"
      ]
     },
     "metadata": {
      "needs_background": "light"
     },
     "output_type": "display_data"
    }
   ],
   "source": [
    "gamma = np.random.gamma(5,1,100)\n",
    "print(gamma)\n",
    "plt.hist(gamma)\n",
    "plt.axvline(gamma.mean(), color='b', linestyle='solid', linewidth=3)\n",
    "plt.axvline(gamma.mean() + gamma.std(), color='r', linestyle='dashed', linewidth=2)\n",
    "plt.axvline(gamma.mean()-gamma.std(), color='r', linestyle='dashed', linewidth=2) \n"
   ]
  },
  {
   "cell_type": "code",
   "execution_count": 28,
   "metadata": {},
   "outputs": [],
   "source": [
    "normaldis1 = np.random.normal(5, .5, 2000)\n",
    "normaldis2 = np.random.normal(10, 1, 2000)\n",
    "normaldis3=normaldis1+normaldis2"
   ]
  },
  {
   "cell_type": "code",
   "execution_count": 30,
   "metadata": {},
   "outputs": [
    {
     "data": {
      "text/plain": [
       "(array([ 20.,  73., 241., 401., 488., 439., 219.,  96.,  18.,   5.]),\n",
       " array([11.67200043, 12.39880294, 13.12560544, 13.85240795, 14.57921045,\n",
       "        15.30601296, 16.03281547, 16.75961797, 17.48642048, 18.21322298,\n",
       "        18.94002549]),\n",
       " <a list of 10 Patch objects>)"
      ]
     },
     "execution_count": 30,
     "metadata": {},
     "output_type": "execute_result"
    },
    {
     "data": {
      "image/png": "[encoded data removed]",
      "text/plain": [
       "<Figure size 432x288 with 1 Axes>"
      ]
     },
     "metadata": {
      "needs_background": "light"
     },
     "output_type": "display_data"
    }
   ],
   "source": []
  },
  {
   "cell_type": "code",
   "execution_count": 32,
   "metadata": {},
   "outputs": [
    {
     "data": {
      "text/plain": [
       "(array([ 20.,  73., 241., 401., 488., 439., 219.,  96.,  18.,   5.]),\n",
       " array([11.67200043, 12.39880294, 13.12560544, 13.85240795, 14.57921045,\n",
       "        15.30601296, 16.03281547, 16.75961797, 17.48642048, 18.21322298,\n",
       "        18.94002549]),\n",
       " <a list of 10 Patch objects>)"
      ]
     },
     "execution_count": 32,
     "metadata": {},
     "output_type": "execute_result"
    },
    {
     "data": {
      "image/png": "[encoded data removed]",
      "text/plain": [
       "<Figure size 432x288 with 1 Axes>"
      ]
     },
     "metadata": {
      "needs_background": "light"
     },
     "output_type": "display_data"
    }
   ],
   "source": [
    "plt.axvline(normaldis3.mean(), color='b', linestyle='solid', linewidth=3)\n",
    "plt.axvline(normaldis3.mean() + normaldis3.std(), color='r', linestyle='dashed', linewidth=2)\n",
    "plt.axvline(normaldis3.mean()-normaldis3.std(), color='r', linestyle='dashed', linewidth=2) \n",
    "plt.hist(normaldis3)"
   ]
  },
  {
   "cell_type": "code",
   "execution_count": null,
   "metadata": {},
   "outputs": [],
   "source": []
  }
 ],
 "metadata": {
  "kernelspec": {
   "display_name": "Python 3",
   "language": "python",
   "name": "python3"
  },
  "language_info": {
   "codemirror_mode": {
    "name": "ipython",
    "version": 3
   },
   "file_extension": ".py",
   "mimetype": "text/x-python",
   "name": "python",
   "nbconvert_exporter": "python",
   "pygments_lexer": "ipython3",
   "version": "3.7.1"
  }
 },
 "nbformat": 4,
 "nbformat_minor": 2
}
